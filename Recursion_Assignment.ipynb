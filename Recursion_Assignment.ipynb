{
 "cells": [
  {
   "cell_type": "code",
   "execution_count": 1,
   "id": "055f9d29-d3bc-48be-907b-3b44950d7212",
   "metadata": {},
   "outputs": [],
   "source": [
    "##1.Can you explain the logic and working of the Tower of Hanoi algorithm by writing a Java program?  How does the recursion work, and how are the movements of disks between rods accomplished?"
   ]
  },
  {
   "cell_type": "code",
   "execution_count": 2,
   "id": "367af62f-c521-4731-820e-35a42b17ffe4",
   "metadata": {},
   "outputs": [
    {
     "name": "stdout",
     "output_type": "stream",
     "text": [
      "Move disk 1 from A to C\n",
      "Move disk 2 from A to B\n",
      "Move disk 1 from C to B\n",
      "Move disk 3 from A to C\n",
      "Move disk 1 from B to A\n",
      "Move disk 2 from B to C\n",
      "Move disk 1 from A to C\n"
     ]
    }
   ],
   "source": [
    "def tower_of_hanoi(n, source, auxiliary, target):\n",
    "    if n > 0:\n",
    "        tower_of_hanoi(n-1, source, target, auxiliary)\n",
    "        print(f\"Move disk {n} from {source} to {target}\")\n",
    "        tower_of_hanoi(n-1, auxiliary, source, target)\n",
    "\n",
    "n = 3\n",
    "tower_of_hanoi(n, 'A', 'B', 'C')"
   ]
  },
  {
   "cell_type": "code",
   "execution_count": 21,
   "id": "d42bd51a-d586-4cc6-ab0a-d6ef6f067107",
   "metadata": {},
   "outputs": [],
   "source": [
    "##2.Given two strings word1 and word2, return the minimum number of operations required to convert word1 to word2"
   ]
  },
  {
   "cell_type": "code",
   "execution_count": 27,
   "id": "99114fdd-eb52-470f-9e54-d68e02ed1aae",
   "metadata": {},
   "outputs": [
    {
     "name": "stdout",
     "output_type": "stream",
     "text": [
      "The minimum number of operations required to convert 'horse' to 'ros' is 3\n"
     ]
    }
   ],
   "source": [
    "def minDistance(word1, word2):\n",
    "\n",
    "    def convert(i, j):\n",
    "        if i == len(word1):\n",
    "            return len(word2) - j\n",
    "        if j == len(word2):\n",
    "            return len(word1) - i\n",
    "\n",
    "        if word1[i] == word2[j]:\n",
    "            return convert(i + 1, j + 1)\n",
    "        \n",
    "        insert_op = convert(i, j + 1) + 1\n",
    "        delete_op = convert(i + 1, j) + 1\n",
    "        replace_op = convert(i + 1, j + 1) + 1\n",
    "        \n",
    "        return min(insert_op, delete_op, replace_op)\n",
    "    \n",
    "    return convert(0, 0)\n",
    "\n",
    "word1 = \"horse\"\n",
    "word2 = \"ros\"\n",
    "print(f\"The minimum number of operations required to convert '{word1}' to '{word2}' is {minDistance(word1, word2)}\")\n"
   ]
  },
  {
   "cell_type": "code",
   "execution_count": 10,
   "id": "f3e0f60d-ee35-4c69-b93c-fff487e0bdc6",
   "metadata": {},
   "outputs": [],
   "source": [
    "##3.Print the max value of the array in python using recursion."
   ]
  },
  {
   "cell_type": "code",
   "execution_count": 9,
   "id": "b154322f-8103-4a9d-a449-8ef7b01382a6",
   "metadata": {},
   "outputs": [
    {
     "name": "stdout",
     "output_type": "stream",
     "text": [
      "The maximum value in the array is 9\n"
     ]
    }
   ],
   "source": [
    "def find_max(arr, n):\n",
    "    if n == 0:\n",
    "        return arr[0]\n",
    "\n",
    "    max_rest = find_max(arr, n - 1)\n",
    "\n",
    "    return max(arr[n], max_rest)\n",
    "\n",
    "array = [3, 1, 4, 1, 5, 9, 2, 6, 5, 3, 5]\n",
    "max_value = find_max(array, len(array) - 1)\n",
    "print(f\"The maximum value in the array is {max_value}\")"
   ]
  },
  {
   "cell_type": "code",
   "execution_count": null,
   "id": "d1e8f389-b379-43b7-a33d-089ba12e43e2",
   "metadata": {},
   "outputs": [],
   "source": []
  },
  {
   "cell_type": "code",
   "execution_count": 11,
   "id": "fbf01d5e-978f-40cc-ac6d-e48142551b5d",
   "metadata": {},
   "outputs": [],
   "source": [
    "##4.Find the sum of the values of the array"
   ]
  },
  {
   "cell_type": "code",
   "execution_count": 13,
   "id": "5bb69b2c-9479-430e-9c8e-8b3406106c0e",
   "metadata": {},
   "outputs": [
    {
     "name": "stdout",
     "output_type": "stream",
     "text": [
      "The sum of the array is 15\n"
     ]
    }
   ],
   "source": [
    "def rec_sum(arr):\n",
    "\n",
    "    if len(arr) == 0:\n",
    "        return 0\n",
    "    \n",
    "    return arr[0] + rec_sum(arr[1:])\n",
    "\n",
    "array = [1, 2, 3, 4, 5]\n",
    "print(f\"The sum of the array is {rec_sum(array)}\")"
   ]
  },
  {
   "cell_type": "code",
   "execution_count": null,
   "id": "1a8952d6-34aa-48ae-bdb2-239e391b66ad",
   "metadata": {},
   "outputs": [],
   "source": []
  },
  {
   "cell_type": "code",
   "execution_count": 14,
   "id": "51f0f517-1745-4083-9285-ac3aa1669f90",
   "metadata": {},
   "outputs": [],
   "source": [
    "##5.Given a number n. Print if it is an armstrong number or not.An armstrong number is a number if the sum of every digit in that number raised to the power of total digits in that number is equal to the number."
   ]
  },
  {
   "cell_type": "code",
   "execution_count": 19,
   "id": "cfc005ad-2ae3-4068-b81c-c2d5948df780",
   "metadata": {},
   "outputs": [
    {
     "name": "stdout",
     "output_type": "stream",
     "text": [
      "153 is an Armstrong number.\n",
      "34 is not an Armstrong number.\n",
      "372 is not an Armstrong number.\n",
      "407 is an Armstrong number.\n"
     ]
    }
   ],
   "source": [
    "def count_digits(n):\n",
    "    if n < 10:\n",
    "        return 1\n",
    "    return 1 + count_digits(n // 10)\n",
    "\n",
    "def sum_of_powers(n, power):\n",
    "\n",
    "    if n == 0:\n",
    "        return 0\n",
    "    last_digit = n % 10\n",
    "    return (last_digit ** power) + sum_of_powers(n // 10, power)\n",
    "\n",
    "def is_armstrong(n):\n",
    "    \n",
    "    if n < 0:\n",
    "        return False \n",
    "    \n",
    "    num_digits = count_digits(n)\n",
    "    sum_of_powers_digits = sum_of_powers(n, num_digits)\n",
    "    \n",
    "    return sum_of_powers_digits == n\n",
    "\n",
    "numbers_to_test = [153, 34, 372, 407]\n",
    "\n",
    "for number in numbers_to_test:\n",
    "    if is_armstrong(number):\n",
    "        print(f\"{number} is an Armstrong number.\")\n",
    "    else:\n",
    "        print(f\"{number} is not an Armstrong number.\")"
   ]
  },
  {
   "cell_type": "code",
   "execution_count": null,
   "id": "96e9f0d9-2c3f-4eca-a39c-da64f1309080",
   "metadata": {},
   "outputs": [],
   "source": []
  }
 ],
 "metadata": {
  "kernelspec": {
   "display_name": "Python 3 (ipykernel)",
   "language": "python",
   "name": "python3"
  },
  "language_info": {
   "codemirror_mode": {
    "name": "ipython",
    "version": 3
   },
   "file_extension": ".py",
   "mimetype": "text/x-python",
   "name": "python",
   "nbconvert_exporter": "python",
   "pygments_lexer": "ipython3",
   "version": "3.10.8"
  }
 },
 "nbformat": 4,
 "nbformat_minor": 5
}
